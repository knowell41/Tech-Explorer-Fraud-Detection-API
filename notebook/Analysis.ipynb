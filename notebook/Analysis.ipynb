{
 "cells": [
  {
   "cell_type": "markdown",
   "id": "2857cb22",
   "metadata": {},
   "source": [
    "# Problem Statement\n",
    "<p> There is a lack of public available datasets on financial services and specially in the emerging mobile money transactions domain. Financial datasets are important to many researchers and in particular to us performing research in the domain of fraud detection. Part of the problem is the intrinsically private nature of financial transactions, that leads to no publicly available datasets.\n",
    "\n",
    "We present a synthetic dataset generated using the simulator called PaySim as an approach to such a problem. PaySim uses aggregated data from the private dataset to generate a synthetic dataset that resembles the normal operation of transactions and injects malicious behaviour to later evaluate the performance of fraud detection methods.</p>"
   ]
  },
  {
   "cell_type": "markdown",
   "id": "e59cb86f",
   "metadata": {},
   "source": [
    "# Content\n",
    "<p> PaySim simulates mobile money transactions based on a sample of real transactions extracted from one month of financial logs from a mobile money service implemented in an African country. The original logs were provided by a multinational company, who is the provider of the mobile financial service which is currently running in more than 14 countries all around the world.\n",
    "\n",
    "This synthetic dataset is scaled down 1/4 of the original dataset and it is created just for Kaggle.</p>"
   ]
  },
  {
   "cell_type": "markdown",
   "id": "52adc122",
   "metadata": {},
   "source": [
    "# Data Dictionary\n",
    "\n",
    "<p> step - maps a unit of time in the real world. In this case 1 step is 1 hour of time. Total steps 744 (30 days simulation).\n",
    "\n",
    "type - CASH-IN, CASH-OUT, DEBIT, PAYMENT and TRANSFER.\n",
    "\n",
    "amount -\n",
    "amount of the transaction in local currency.\n",
    "\n",
    "nameOrig - customer who started the transaction\n",
    "\n",
    "oldbalanceOrg - initial balance before the transaction\n",
    "\n",
    "newbalanceOrig - new balance after the transaction\n",
    "\n",
    "nameDest - customer who is the recipient of the transaction\n",
    "\n",
    "oldbalanceDest - initial balance recipient before the transaction. Note that there is not information for customers that start with M (Merchants).\n",
    "\n",
    "newbalanceDest - new balance recipient after the transaction. Note that there is not information for customers that start with M (Merchants).\n",
    "\n",
    "isFraud - This is the transactions made by the fraudulent agents inside the simulation. In this specific dataset the fraudulent behavior of the agents aims to profit by taking control or customers accounts and try to empty the funds by transferring to another account and then cashing out of the system.\n",
    "\n",
    "isFlaggedFraud - The business model aims to control massive transfers from one account to another and flags illegal attempts. An illegal attempt in this dataset is an attempt to transfer more than 200.000 in a single transaction.</p>"
   ]
  },
  {
   "cell_type": "markdown",
   "id": "4e0503a2",
   "metadata": {},
   "source": [
    "## Data Loading"
   ]
  },
  {
   "cell_type": "code",
   "execution_count": 1,
   "id": "3317e348",
   "metadata": {
    "ExecuteTime": {
     "end_time": "2022-02-17T15:10:29.074674Z",
     "start_time": "2022-02-17T15:10:21.914465Z"
    }
   },
   "outputs": [],
   "source": [
    "import pandas as pd\n"
   ]
  },
  {
   "cell_type": "code",
   "execution_count": 2,
   "id": "bd022752",
   "metadata": {
    "ExecuteTime": {
     "end_time": "2022-02-17T15:10:53.483540Z",
     "start_time": "2022-02-17T15:10:29.078444Z"
    }
   },
   "outputs": [
    {
     "data": {
      "text/html": [
       "<div>\n",
       "<style scoped>\n",
       "    .dataframe tbody tr th:only-of-type {\n",
       "        vertical-align: middle;\n",
       "    }\n",
       "\n",
       "    .dataframe tbody tr th {\n",
       "        vertical-align: top;\n",
       "    }\n",
       "\n",
       "    .dataframe thead th {\n",
       "        text-align: right;\n",
       "    }\n",
       "</style>\n",
       "<table border=\"1\" class=\"dataframe\">\n",
       "  <thead>\n",
       "    <tr style=\"text-align: right;\">\n",
       "      <th></th>\n",
       "      <th>step</th>\n",
       "      <th>type</th>\n",
       "      <th>amount</th>\n",
       "      <th>nameOrig</th>\n",
       "      <th>oldbalanceOrg</th>\n",
       "      <th>newbalanceOrig</th>\n",
       "      <th>nameDest</th>\n",
       "      <th>oldbalanceDest</th>\n",
       "      <th>newbalanceDest</th>\n",
       "      <th>isFraud</th>\n",
       "      <th>isFlaggedFraud</th>\n",
       "    </tr>\n",
       "  </thead>\n",
       "  <tbody>\n",
       "    <tr>\n",
       "      <th>0</th>\n",
       "      <td>1</td>\n",
       "      <td>PAYMENT</td>\n",
       "      <td>9839.64</td>\n",
       "      <td>C1231006815</td>\n",
       "      <td>170136.0</td>\n",
       "      <td>160296.36</td>\n",
       "      <td>M1979787155</td>\n",
       "      <td>0.0</td>\n",
       "      <td>0.0</td>\n",
       "      <td>0</td>\n",
       "      <td>0</td>\n",
       "    </tr>\n",
       "    <tr>\n",
       "      <th>1</th>\n",
       "      <td>1</td>\n",
       "      <td>PAYMENT</td>\n",
       "      <td>1864.28</td>\n",
       "      <td>C1666544295</td>\n",
       "      <td>21249.0</td>\n",
       "      <td>19384.72</td>\n",
       "      <td>M2044282225</td>\n",
       "      <td>0.0</td>\n",
       "      <td>0.0</td>\n",
       "      <td>0</td>\n",
       "      <td>0</td>\n",
       "    </tr>\n",
       "    <tr>\n",
       "      <th>2</th>\n",
       "      <td>1</td>\n",
       "      <td>TRANSFER</td>\n",
       "      <td>181.00</td>\n",
       "      <td>C1305486145</td>\n",
       "      <td>181.0</td>\n",
       "      <td>0.00</td>\n",
       "      <td>C553264065</td>\n",
       "      <td>0.0</td>\n",
       "      <td>0.0</td>\n",
       "      <td>1</td>\n",
       "      <td>0</td>\n",
       "    </tr>\n",
       "  </tbody>\n",
       "</table>\n",
       "</div>"
      ],
      "text/plain": [
       "   step      type   amount     nameOrig  oldbalanceOrg  newbalanceOrig  \\\n",
       "0     1   PAYMENT  9839.64  C1231006815       170136.0       160296.36   \n",
       "1     1   PAYMENT  1864.28  C1666544295        21249.0        19384.72   \n",
       "2     1  TRANSFER   181.00  C1305486145          181.0            0.00   \n",
       "\n",
       "      nameDest  oldbalanceDest  newbalanceDest  isFraud  isFlaggedFraud  \n",
       "0  M1979787155             0.0             0.0        0               0  \n",
       "1  M2044282225             0.0             0.0        0               0  \n",
       "2   C553264065             0.0             0.0        1               0  "
      ]
     },
     "execution_count": 2,
     "metadata": {},
     "output_type": "execute_result"
    }
   ],
   "source": [
    "raw_data = pd.read_csv(\"../dataset/PS_20174392719_1491204439457_log.csv\")\n",
    "raw_data.head(3)"
   ]
  },
  {
   "cell_type": "code",
   "execution_count": 3,
   "id": "be6b1e5f",
   "metadata": {
    "ExecuteTime": {
     "end_time": "2022-02-17T15:10:53.580772Z",
     "start_time": "2022-02-17T15:10:53.486133Z"
    }
   },
   "outputs": [
    {
     "name": "stdout",
     "output_type": "stream",
     "text": [
      "<class 'pandas.core.frame.DataFrame'>\n",
      "RangeIndex: 6362620 entries, 0 to 6362619\n",
      "Data columns (total 11 columns):\n",
      " #   Column          Dtype  \n",
      "---  ------          -----  \n",
      " 0   step            int64  \n",
      " 1   type            object \n",
      " 2   amount          float64\n",
      " 3   nameOrig        object \n",
      " 4   oldbalanceOrg   float64\n",
      " 5   newbalanceOrig  float64\n",
      " 6   nameDest        object \n",
      " 7   oldbalanceDest  float64\n",
      " 8   newbalanceDest  float64\n",
      " 9   isFraud         int64  \n",
      " 10  isFlaggedFraud  int64  \n",
      "dtypes: float64(5), int64(3), object(3)\n",
      "memory usage: 534.0+ MB\n"
     ]
    }
   ],
   "source": [
    "raw_data.info()"
   ]
  },
  {
   "cell_type": "code",
   "execution_count": 4,
   "id": "a397e4f8",
   "metadata": {
    "ExecuteTime": {
     "end_time": "2022-02-17T15:10:54.909281Z",
     "start_time": "2022-02-17T15:10:53.585595Z"
    }
   },
   "outputs": [
    {
     "data": {
      "text/plain": [
       "step              0\n",
       "type              0\n",
       "amount            0\n",
       "nameOrig          0\n",
       "oldbalanceOrg     0\n",
       "newbalanceOrig    0\n",
       "nameDest          0\n",
       "oldbalanceDest    0\n",
       "newbalanceDest    0\n",
       "isFraud           0\n",
       "isFlaggedFraud    0\n",
       "dtype: int64"
      ]
     },
     "execution_count": 4,
     "metadata": {},
     "output_type": "execute_result"
    }
   ],
   "source": [
    "raw_data.isnull().sum()"
   ]
  },
  {
   "cell_type": "markdown",
   "id": "4444705f",
   "metadata": {},
   "source": [
    "## Data Exploration and Analysis"
   ]
  },
  {
   "cell_type": "markdown",
   "id": "484ce354",
   "metadata": {},
   "source": [
    "#### How many data samples are there ? "
   ]
  },
  {
   "cell_type": "code",
   "execution_count": 5,
   "id": "c7db7c08",
   "metadata": {
    "ExecuteTime": {
     "end_time": "2022-02-17T15:10:54.926477Z",
     "start_time": "2022-02-17T15:10:54.912579Z"
    }
   },
   "outputs": [
    {
     "data": {
      "text/plain": [
       "6362620"
      ]
     },
     "execution_count": 5,
     "metadata": {},
     "output_type": "execute_result"
    }
   ],
   "source": [
    "raw_data.shape[0]"
   ]
  },
  {
   "cell_type": "markdown",
   "id": "d9b9d7ce",
   "metadata": {},
   "source": [
    "#### How many transactions is fraudulent ? "
   ]
  },
  {
   "cell_type": "code",
   "execution_count": 6,
   "id": "d0247fab",
   "metadata": {
    "ExecuteTime": {
     "end_time": "2022-02-17T15:10:55.038658Z",
     "start_time": "2022-02-17T15:10:54.929825Z"
    }
   },
   "outputs": [
    {
     "data": {
      "text/plain": [
       "8213"
      ]
     },
     "execution_count": 6,
     "metadata": {},
     "output_type": "execute_result"
    }
   ],
   "source": [
    "raw_data.loc[raw_data.isFraud==1].shape[0]"
   ]
  },
  {
   "cell_type": "markdown",
   "id": "5880637a",
   "metadata": {
    "ExecuteTime": {
     "start_time": "2022-02-15T18:57:56.458Z"
    }
   },
   "source": [
    "#### What kinds of transactions are there ?"
   ]
  },
  {
   "cell_type": "code",
   "execution_count": 7,
   "id": "284897ea",
   "metadata": {
    "ExecuteTime": {
     "end_time": "2022-02-17T15:10:55.699703Z",
     "start_time": "2022-02-17T15:10:55.043078Z"
    }
   },
   "outputs": [
    {
     "data": {
      "text/plain": [
       "['PAYMENT', 'TRANSFER', 'CASH_OUT', 'DEBIT', 'CASH_IN']"
      ]
     },
     "execution_count": 7,
     "metadata": {},
     "output_type": "execute_result"
    }
   ],
   "source": [
    "raw_data.type.unique().tolist()"
   ]
  },
  {
   "cell_type": "markdown",
   "id": "263889cc",
   "metadata": {},
   "source": [
    "#### What kinds of transactions has a fraudulent records ?"
   ]
  },
  {
   "cell_type": "code",
   "execution_count": 8,
   "id": "ddbc6283",
   "metadata": {
    "ExecuteTime": {
     "end_time": "2022-02-17T15:10:55.741628Z",
     "start_time": "2022-02-17T15:10:55.702839Z"
    }
   },
   "outputs": [
    {
     "data": {
      "text/plain": [
       "['TRANSFER', 'CASH_OUT']"
      ]
     },
     "execution_count": 8,
     "metadata": {},
     "output_type": "execute_result"
    }
   ],
   "source": [
    "raw_data.loc[raw_data.isFraud==1].type.unique().tolist()"
   ]
  },
  {
   "cell_type": "markdown",
   "id": "34e9ba6d",
   "metadata": {},
   "source": [
    "#### How many unique Accounts in records ?"
   ]
  },
  {
   "cell_type": "code",
   "execution_count": 9,
   "id": "4d9df613",
   "metadata": {
    "ExecuteTime": {
     "end_time": "2022-02-17T15:11:01.680198Z",
     "start_time": "2022-02-17T15:10:55.746364Z"
    }
   },
   "outputs": [
    {
     "data": {
      "text/plain": [
       "6353307"
      ]
     },
     "execution_count": 9,
     "metadata": {},
     "output_type": "execute_result"
    }
   ],
   "source": [
    "raw_data.nameOrig.unique().shape[0]"
   ]
  },
  {
   "cell_type": "markdown",
   "id": "dff493b7",
   "metadata": {},
   "source": [
    "#### How many accounts (origin) involved in fraudulent transactions"
   ]
  },
  {
   "cell_type": "code",
   "execution_count": 10,
   "id": "a2917e48",
   "metadata": {
    "ExecuteTime": {
     "end_time": "2022-02-17T15:11:01.726930Z",
     "start_time": "2022-02-17T15:11:01.686299Z"
    }
   },
   "outputs": [
    {
     "data": {
      "text/plain": [
       "8213"
      ]
     },
     "execution_count": 10,
     "metadata": {},
     "output_type": "execute_result"
    }
   ],
   "source": [
    "raw_data.loc[raw_data.isFraud == 1].nameOrig.unique().shape[0]"
   ]
  },
  {
   "cell_type": "markdown",
   "id": "69d5b4f2",
   "metadata": {},
   "source": [
    "#### How many accounts (destination) involved in fraudulent transactions"
   ]
  },
  {
   "cell_type": "code",
   "execution_count": 11,
   "id": "24ac7d4b",
   "metadata": {
    "ExecuteTime": {
     "end_time": "2022-02-17T15:11:01.800797Z",
     "start_time": "2022-02-17T15:11:01.730480Z"
    }
   },
   "outputs": [
    {
     "data": {
      "text/plain": [
       "8169"
      ]
     },
     "execution_count": 11,
     "metadata": {},
     "output_type": "execute_result"
    }
   ],
   "source": [
    "raw_data.loc[raw_data.isFraud == 1].nameDest.unique().shape[0]"
   ]
  },
  {
   "cell_type": "markdown",
   "id": "1115285a",
   "metadata": {},
   "source": [
    "# Preprocess Data"
   ]
  },
  {
   "cell_type": "code",
   "execution_count": 12,
   "id": "24a5c63c",
   "metadata": {
    "ExecuteTime": {
     "end_time": "2022-02-17T15:11:02.787833Z",
     "start_time": "2022-02-17T15:11:01.807564Z"
    }
   },
   "outputs": [],
   "source": [
    "raw_data_copy = raw_data.copy() # copy raw_data"
   ]
  },
  {
   "cell_type": "code",
   "execution_count": 13,
   "id": "dc724845",
   "metadata": {
    "ExecuteTime": {
     "end_time": "2022-02-17T15:11:02.818191Z",
     "start_time": "2022-02-17T15:11:02.790063Z"
    }
   },
   "outputs": [
    {
     "data": {
      "text/html": [
       "<div>\n",
       "<style scoped>\n",
       "    .dataframe tbody tr th:only-of-type {\n",
       "        vertical-align: middle;\n",
       "    }\n",
       "\n",
       "    .dataframe tbody tr th {\n",
       "        vertical-align: top;\n",
       "    }\n",
       "\n",
       "    .dataframe thead th {\n",
       "        text-align: right;\n",
       "    }\n",
       "</style>\n",
       "<table border=\"1\" class=\"dataframe\">\n",
       "  <thead>\n",
       "    <tr style=\"text-align: right;\">\n",
       "      <th></th>\n",
       "      <th>step</th>\n",
       "      <th>type</th>\n",
       "      <th>amount</th>\n",
       "      <th>nameOrig</th>\n",
       "      <th>oldbalanceOrg</th>\n",
       "      <th>newbalanceOrig</th>\n",
       "      <th>nameDest</th>\n",
       "      <th>oldbalanceDest</th>\n",
       "      <th>newbalanceDest</th>\n",
       "      <th>isFraud</th>\n",
       "      <th>isFlaggedFraud</th>\n",
       "    </tr>\n",
       "  </thead>\n",
       "  <tbody>\n",
       "    <tr>\n",
       "      <th>0</th>\n",
       "      <td>1</td>\n",
       "      <td>PAYMENT</td>\n",
       "      <td>9839.64</td>\n",
       "      <td>C1231006815</td>\n",
       "      <td>170136.0</td>\n",
       "      <td>160296.36</td>\n",
       "      <td>M1979787155</td>\n",
       "      <td>0.0</td>\n",
       "      <td>0.0</td>\n",
       "      <td>0</td>\n",
       "      <td>0</td>\n",
       "    </tr>\n",
       "    <tr>\n",
       "      <th>1</th>\n",
       "      <td>1</td>\n",
       "      <td>PAYMENT</td>\n",
       "      <td>1864.28</td>\n",
       "      <td>C1666544295</td>\n",
       "      <td>21249.0</td>\n",
       "      <td>19384.72</td>\n",
       "      <td>M2044282225</td>\n",
       "      <td>0.0</td>\n",
       "      <td>0.0</td>\n",
       "      <td>0</td>\n",
       "      <td>0</td>\n",
       "    </tr>\n",
       "    <tr>\n",
       "      <th>2</th>\n",
       "      <td>1</td>\n",
       "      <td>TRANSFER</td>\n",
       "      <td>181.00</td>\n",
       "      <td>C1305486145</td>\n",
       "      <td>181.0</td>\n",
       "      <td>0.00</td>\n",
       "      <td>C553264065</td>\n",
       "      <td>0.0</td>\n",
       "      <td>0.0</td>\n",
       "      <td>1</td>\n",
       "      <td>0</td>\n",
       "    </tr>\n",
       "  </tbody>\n",
       "</table>\n",
       "</div>"
      ],
      "text/plain": [
       "   step      type   amount     nameOrig  oldbalanceOrg  newbalanceOrig  \\\n",
       "0     1   PAYMENT  9839.64  C1231006815       170136.0       160296.36   \n",
       "1     1   PAYMENT  1864.28  C1666544295        21249.0        19384.72   \n",
       "2     1  TRANSFER   181.00  C1305486145          181.0            0.00   \n",
       "\n",
       "      nameDest  oldbalanceDest  newbalanceDest  isFraud  isFlaggedFraud  \n",
       "0  M1979787155             0.0             0.0        0               0  \n",
       "1  M2044282225             0.0             0.0        0               0  \n",
       "2   C553264065             0.0             0.0        1               0  "
      ]
     },
     "execution_count": 13,
     "metadata": {},
     "output_type": "execute_result"
    }
   ],
   "source": [
    "raw_data_copy.head(3)"
   ]
  },
  {
   "cell_type": "code",
   "execution_count": 14,
   "id": "22e7b18b",
   "metadata": {
    "ExecuteTime": {
     "end_time": "2022-02-17T15:11:03.398416Z",
     "start_time": "2022-02-17T15:11:02.823069Z"
    }
   },
   "outputs": [],
   "source": [
    "# Drop colums not needed in analysis\n",
    "raw_data_copy = raw_data_copy.drop(['nameOrig', 'nameDest'], axis=1)"
   ]
  },
  {
   "cell_type": "code",
   "execution_count": 15,
   "id": "85ae60a5",
   "metadata": {
    "ExecuteTime": {
     "end_time": "2022-02-17T15:11:03.446368Z",
     "start_time": "2022-02-17T15:11:03.402710Z"
    }
   },
   "outputs": [
    {
     "data": {
      "text/html": [
       "<div>\n",
       "<style scoped>\n",
       "    .dataframe tbody tr th:only-of-type {\n",
       "        vertical-align: middle;\n",
       "    }\n",
       "\n",
       "    .dataframe tbody tr th {\n",
       "        vertical-align: top;\n",
       "    }\n",
       "\n",
       "    .dataframe thead th {\n",
       "        text-align: right;\n",
       "    }\n",
       "</style>\n",
       "<table border=\"1\" class=\"dataframe\">\n",
       "  <thead>\n",
       "    <tr style=\"text-align: right;\">\n",
       "      <th></th>\n",
       "      <th>step</th>\n",
       "      <th>type</th>\n",
       "      <th>amount</th>\n",
       "      <th>oldbalanceOrg</th>\n",
       "      <th>newbalanceOrig</th>\n",
       "      <th>oldbalanceDest</th>\n",
       "      <th>newbalanceDest</th>\n",
       "      <th>isFraud</th>\n",
       "      <th>isFlaggedFraud</th>\n",
       "    </tr>\n",
       "  </thead>\n",
       "  <tbody>\n",
       "    <tr>\n",
       "      <th>0</th>\n",
       "      <td>1</td>\n",
       "      <td>PAYMENT</td>\n",
       "      <td>9839.64</td>\n",
       "      <td>170136.0</td>\n",
       "      <td>160296.36</td>\n",
       "      <td>0.0</td>\n",
       "      <td>0.0</td>\n",
       "      <td>0</td>\n",
       "      <td>0</td>\n",
       "    </tr>\n",
       "    <tr>\n",
       "      <th>1</th>\n",
       "      <td>1</td>\n",
       "      <td>PAYMENT</td>\n",
       "      <td>1864.28</td>\n",
       "      <td>21249.0</td>\n",
       "      <td>19384.72</td>\n",
       "      <td>0.0</td>\n",
       "      <td>0.0</td>\n",
       "      <td>0</td>\n",
       "      <td>0</td>\n",
       "    </tr>\n",
       "    <tr>\n",
       "      <th>2</th>\n",
       "      <td>1</td>\n",
       "      <td>TRANSFER</td>\n",
       "      <td>181.00</td>\n",
       "      <td>181.0</td>\n",
       "      <td>0.00</td>\n",
       "      <td>0.0</td>\n",
       "      <td>0.0</td>\n",
       "      <td>1</td>\n",
       "      <td>0</td>\n",
       "    </tr>\n",
       "  </tbody>\n",
       "</table>\n",
       "</div>"
      ],
      "text/plain": [
       "   step      type   amount  oldbalanceOrg  newbalanceOrig  oldbalanceDest  \\\n",
       "0     1   PAYMENT  9839.64       170136.0       160296.36             0.0   \n",
       "1     1   PAYMENT  1864.28        21249.0        19384.72             0.0   \n",
       "2     1  TRANSFER   181.00          181.0            0.00             0.0   \n",
       "\n",
       "   newbalanceDest  isFraud  isFlaggedFraud  \n",
       "0             0.0        0               0  \n",
       "1             0.0        0               0  \n",
       "2             0.0        1               0  "
      ]
     },
     "execution_count": 15,
     "metadata": {},
     "output_type": "execute_result"
    }
   ],
   "source": [
    "raw_data_copy.head(3)"
   ]
  },
  {
   "cell_type": "code",
   "execution_count": 16,
   "id": "80b28a39",
   "metadata": {
    "ExecuteTime": {
     "end_time": "2022-02-17T15:11:16.501930Z",
     "start_time": "2022-02-17T15:11:07.616496Z"
    }
   },
   "outputs": [],
   "source": [
    "from sklearn import preprocessing\n",
    "import pickle\n",
    "\n",
    "enc = preprocessing.LabelEncoder()\n",
    "enc.fit(raw_data_copy.type)\n",
    "raw_data_copy.type = enc.transform(raw_data_copy.type) # change categorical data to numerical\n",
    "raw_data_copy.head()\n",
    "\n",
    "with open('../model/fraud_detection_model_v1.pkl', 'wb') as f:\n",
    "    pickle.dump(enc, f)"
   ]
  },
  {
   "cell_type": "code",
   "execution_count": 33,
   "id": "aae8bd4d",
   "metadata": {
    "ExecuteTime": {
     "end_time": "2022-02-17T15:19:15.519524Z",
     "start_time": "2022-02-17T15:19:15.510694Z"
    }
   },
   "outputs": [],
   "source": [
    "\n",
    "label = pickle.load(open('../model/fraud_detection_model_v1.pkl', 'rb'))"
   ]
  },
  {
   "cell_type": "code",
   "execution_count": 26,
   "id": "63e2f7c3",
   "metadata": {
    "ExecuteTime": {
     "end_time": "2022-02-17T15:15:13.799275Z",
     "start_time": "2022-02-17T15:15:13.791734Z"
    }
   },
   "outputs": [
    {
     "data": {
      "text/plain": [
       "array(['CASH_IN', 'CASH_OUT', 'DEBIT', 'PAYMENT', 'TRANSFER'],\n",
       "      dtype=object)"
      ]
     },
     "execution_count": 26,
     "metadata": {},
     "output_type": "execute_result"
    }
   ],
   "source": [
    "enc.classes_"
   ]
  },
  {
   "cell_type": "code",
   "execution_count": null,
   "id": "26d2e9ab",
   "metadata": {
    "ExecuteTime": {
     "end_time": "2022-02-17T14:41:50.096407Z",
     "start_time": "2022-02-17T14:41:50.071665Z"
    }
   },
   "outputs": [],
   "source": [
    "raw_data_copy.dtypes"
   ]
  },
  {
   "cell_type": "code",
   "execution_count": null,
   "id": "bcd94140",
   "metadata": {
    "ExecuteTime": {
     "end_time": "2022-02-17T14:41:50.601863Z",
     "start_time": "2022-02-17T14:41:50.099283Z"
    }
   },
   "outputs": [],
   "source": [
    "## split data. 50:50 for non-fraud and fraund transaction\n",
    "\n",
    "raw_data_fraud = raw_data_copy.loc[raw_data_copy.isFraud == 1]\n",
    "raw_data_fraud.shape"
   ]
  },
  {
   "cell_type": "code",
   "execution_count": null,
   "id": "c446bf1c",
   "metadata": {
    "ExecuteTime": {
     "end_time": "2022-02-17T14:41:51.551136Z",
     "start_time": "2022-02-17T14:41:50.604715Z"
    }
   },
   "outputs": [],
   "source": [
    "raw_data_legit = raw_data_copy.loc[raw_data_copy.isFraud != 1]\n",
    "raw_data_legit.head()"
   ]
  },
  {
   "cell_type": "code",
   "execution_count": null,
   "id": "9bb00232",
   "metadata": {
    "ExecuteTime": {
     "end_time": "2022-02-17T14:41:52.234219Z",
     "start_time": "2022-02-17T14:41:51.555546Z"
    }
   },
   "outputs": [],
   "source": [
    "# randomly select non fraud transaction to add ot final train set\n",
    "\n",
    "\n",
    "fraud_transaction_count = len(raw_data_fraud)\n",
    "raw_data_legit_selected = raw_data_legit.sample(fraud_transaction_count)\n",
    "raw_data_legit_selected.shape"
   ]
  },
  {
   "cell_type": "code",
   "execution_count": null,
   "id": "607de5e6",
   "metadata": {
    "ExecuteTime": {
     "end_time": "2022-02-17T14:41:52.249181Z",
     "start_time": "2022-02-17T14:41:52.237461Z"
    }
   },
   "outputs": [],
   "source": [
    "final_raw_data_trimmed = pd.concat([raw_data_legit_selected, raw_data_fraud])\n",
    "final_raw_data_trimmed.shape"
   ]
  },
  {
   "cell_type": "code",
   "execution_count": null,
   "id": "a390842b",
   "metadata": {
    "ExecuteTime": {
     "end_time": "2022-02-17T14:41:52.275912Z",
     "start_time": "2022-02-17T14:41:52.252959Z"
    }
   },
   "outputs": [],
   "source": [
    "final_raw_data_trimmed.head(1)"
   ]
  },
  {
   "cell_type": "code",
   "execution_count": null,
   "id": "7883b141",
   "metadata": {
    "ExecuteTime": {
     "end_time": "2022-02-17T14:41:52.358057Z",
     "start_time": "2022-02-17T14:41:52.279021Z"
    }
   },
   "outputs": [],
   "source": [
    "# separate input variables to target output variable\n",
    "\n",
    "X = final_raw_data_trimmed.iloc[:, [1,2,3,4,5,6]]\n",
    "X.head(1)"
   ]
  },
  {
   "cell_type": "code",
   "execution_count": null,
   "id": "c9670262",
   "metadata": {
    "ExecuteTime": {
     "end_time": "2022-02-17T14:41:52.407461Z",
     "start_time": "2022-02-17T14:41:52.362791Z"
    }
   },
   "outputs": [],
   "source": [
    "y = pd.DataFrame(final_raw_data_trimmed[\"isFraud\"])\n",
    "y.head(1)"
   ]
  },
  {
   "cell_type": "code",
   "execution_count": null,
   "id": "8776fb98",
   "metadata": {
    "ExecuteTime": {
     "end_time": "2022-02-17T14:41:52.856606Z",
     "start_time": "2022-02-17T14:41:52.420666Z"
    }
   },
   "outputs": [],
   "source": [
    "# split data to training and test set\n",
    "\n",
    "from sklearn.model_selection import train_test_split\n",
    "\n",
    "X_train, X_test, y_train, y_test = train_test_split(X, y, test_size=0.3, random_state = 99)\n",
    "# y_train = y_train.values.reshape(y_train.shape[0], 1)\n",
    "# X_train = X_train.values"
   ]
  },
  {
   "cell_type": "code",
   "execution_count": null,
   "id": "0993d830",
   "metadata": {
    "ExecuteTime": {
     "end_time": "2022-02-17T14:41:52.888993Z",
     "start_time": "2022-02-17T14:41:52.858937Z"
    }
   },
   "outputs": [],
   "source": [
    "X_train"
   ]
  },
  {
   "cell_type": "code",
   "execution_count": null,
   "id": "a7ce2584",
   "metadata": {
    "ExecuteTime": {
     "end_time": "2022-02-17T14:41:52.911760Z",
     "start_time": "2022-02-17T14:41:52.892755Z"
    }
   },
   "outputs": [],
   "source": [
    "y_train"
   ]
  },
  {
   "cell_type": "markdown",
   "id": "1e8cabc0",
   "metadata": {},
   "source": [
    "# Neural Network Modeling"
   ]
  },
  {
   "cell_type": "code",
   "execution_count": null,
   "id": "648fbcb0",
   "metadata": {
    "ExecuteTime": {
     "end_time": "2022-02-17T14:42:45.249386Z",
     "start_time": "2022-02-17T14:41:52.915370Z"
    }
   },
   "outputs": [],
   "source": [
    "from tensorflow.keras.models import Sequential\n",
    "from tensorflow.keras.layers import Dense\n",
    "from numpy import asarray\n",
    "from tensorflow.keras.layers import Dropout\n",
    "from keras_visualizer import visualizer\n",
    "from tensorflow.keras.optimizers import Adam, SGD, RMSprop, Adadelta, Adagrad, Adamax, Nadam, Ftrl\n",
    "from keras.wrappers.scikit_learn import KerasClassifier\n",
    "from bayes_opt import BayesianOptimization\n",
    "from sklearn.model_selection import cross_val_score, StratifiedKFold\n",
    "from sklearn.metrics import make_scorer, accuracy_score"
   ]
  },
  {
   "cell_type": "code",
   "execution_count": null,
   "id": "37d8f562",
   "metadata": {
    "ExecuteTime": {
     "end_time": "2022-02-17T14:42:45.261191Z",
     "start_time": "2022-02-17T14:42:45.252315Z"
    }
   },
   "outputs": [],
   "source": [
    "def baseline_model(activation=\"relu\", dropout=0.1):\n",
    "    model = Sequential()\n",
    "    model.add(Dense(80, input_dim=input_dim, activation=activation))\n",
    "    model.add(Dropout(dropout))\n",
    "    model.add(Dense(40, input_dim=input_dim, activation=activation))\n",
    "    model.add(Dropout(dropout))\n",
    "    model.add(Dense(60, input_dim=input_dim, activation=activation))\n",
    "    model.add(Dropout(dropout))\n",
    "    model.add(Dense(1, kernel_initializer='normal', activation='sigmoid'))\n",
    "    model.compile(loss='binary_crossentropy', optimizer=opt, metrics=['accuracy'])\n",
    "    return model"
   ]
  },
  {
   "cell_type": "code",
   "execution_count": null,
   "id": "d001ee2f",
   "metadata": {
    "ExecuteTime": {
     "end_time": "2022-02-17T14:42:45.810300Z",
     "start_time": "2022-02-17T14:42:45.268418Z"
    }
   },
   "outputs": [],
   "source": [
    "opt = Adagrad(learning_rate=0.001)\n",
    "input_dim = X_train.shape[1]\n",
    "model = baseline_model()"
   ]
  },
  {
   "cell_type": "code",
   "execution_count": null,
   "id": "04be8ca6",
   "metadata": {
    "ExecuteTime": {
     "end_time": "2022-02-17T14:42:45.825056Z",
     "start_time": "2022-02-17T14:42:45.813841Z"
    }
   },
   "outputs": [],
   "source": [
    "model.summary()"
   ]
  },
  {
   "cell_type": "code",
   "execution_count": null,
   "id": "5cf16dc3",
   "metadata": {
    "ExecuteTime": {
     "end_time": "2022-02-17T14:45:09.259945Z",
     "start_time": "2022-02-17T14:42:45.833275Z"
    },
    "scrolled": true
   },
   "outputs": [],
   "source": [
    "history = model.fit(X_train, y_train, epochs=100, verbose=1, batch_size=32, validation_data=(X_test, y_test))"
   ]
  },
  {
   "cell_type": "code",
   "execution_count": null,
   "id": "ad79c857",
   "metadata": {
    "ExecuteTime": {
     "end_time": "2022-02-17T14:45:11.790815Z",
     "start_time": "2022-02-17T14:45:09.262995Z"
    },
    "scrolled": true
   },
   "outputs": [],
   "source": [
    "import seaborn as sns\n",
    "import numpy as np\n",
    "\n",
    "histotyDF = pd.DataFrame.from_dict(history.history)\n",
    "histotyDF[\"epochs\"] = np.arange(len(histotyDF))\n",
    "histotyDF.head()"
   ]
  },
  {
   "cell_type": "code",
   "execution_count": null,
   "id": "8c76ef8b",
   "metadata": {
    "ExecuteTime": {
     "end_time": "2022-02-17T14:45:26.926878Z",
     "start_time": "2022-02-17T14:45:11.794513Z"
    }
   },
   "outputs": [],
   "source": [
    "import plotly.express as px \n",
    "\n",
    "# fig = px.line(histotyDF, x='epochs')\n",
    "fig = px.line()\n",
    "fig.add_scatter(x=histotyDF['epochs'], y=histotyDF['accuracy'], name=\"Training Accuracy\") \n",
    "fig.add_scatter(x=histotyDF['epochs'], y=histotyDF['val_accuracy'], name=\"Validation Accuracy\") \n",
    "\n",
    "fig.show()\n"
   ]
  },
  {
   "cell_type": "code",
   "execution_count": null,
   "id": "d6d68bc5",
   "metadata": {
    "ExecuteTime": {
     "end_time": "2022-02-17T14:45:27.387143Z",
     "start_time": "2022-02-17T14:45:26.929457Z"
    }
   },
   "outputs": [],
   "source": [
    "# model.predict(x) > 0.5).astype(\"int32\")\n",
    "predicted_nn = (model.predict(X_test.values) >0.5).astype(\"int32\")\n",
    "predicted_df = pd.DataFrame(predicted_nn, columns=[\"isFraud\"])"
   ]
  },
  {
   "cell_type": "markdown",
   "id": "325936ae",
   "metadata": {},
   "source": [
    "## Model Evaluation"
   ]
  },
  {
   "cell_type": "code",
   "execution_count": null,
   "id": "e94d1615",
   "metadata": {
    "ExecuteTime": {
     "end_time": "2022-02-17T14:45:27.403536Z",
     "start_time": "2022-02-17T14:45:27.392898Z"
    }
   },
   "outputs": [],
   "source": [
    "from sklearn.metrics import accuracy_score\n",
    "\n",
    "accuracy = accuracy_score(y_test[\"isFraud\"], predicted_df)\n",
    "accuracy # overall accuracy"
   ]
  },
  {
   "cell_type": "code",
   "execution_count": null,
   "id": "1222870f",
   "metadata": {
    "ExecuteTime": {
     "end_time": "2022-02-17T14:45:27.421751Z",
     "start_time": "2022-02-17T14:45:27.416256Z"
    }
   },
   "outputs": [],
   "source": [
    "# filter fraudulent transactions in y_test\n",
    "y_test_fraud = y_test[y_test[\"isFraud\"]==1]"
   ]
  },
  {
   "cell_type": "code",
   "execution_count": null,
   "id": "3b1aab6d",
   "metadata": {
    "ExecuteTime": {
     "end_time": "2022-02-17T14:45:27.496685Z",
     "start_time": "2022-02-17T14:45:27.424973Z"
    }
   },
   "outputs": [],
   "source": [
    "from sklearn.metrics import confusion_matrix\n",
    "\n",
    "cm = confusion_matrix(y_test, predicted_df)"
   ]
  },
  {
   "cell_type": "code",
   "execution_count": null,
   "id": "938c7376",
   "metadata": {
    "ExecuteTime": {
     "end_time": "2022-02-17T14:45:27.534957Z",
     "start_time": "2022-02-17T14:45:27.503645Z"
    }
   },
   "outputs": [],
   "source": [
    "import numpy as np\n",
    "from matplotlib.pyplot import figure\n",
    "\n",
    "figure(figsize=(12, 14), dpi=200)\n",
    "\n",
    "def plot_confusion_matrix(cm,\n",
    "                          target_names,\n",
    "                          title='Confusion matrix',\n",
    "                          cmap=None,\n",
    "                          normalize=True):\n",
    "    \"\"\"\n",
    "    given a sklearn confusion matrix (cm), make a nice plot\n",
    "\n",
    "    Arguments\n",
    "    ---------\n",
    "    cm:           confusion matrix from sklearn.metrics.confusion_matrix\n",
    "\n",
    "    target_names: given classification classes such as [0, 1, 2]\n",
    "                  the class names, for example: ['high', 'medium', 'low']\n",
    "\n",
    "    title:        the text to display at the top of the matrix\n",
    "\n",
    "    cmap:         the gradient of the values displayed from matplotlib.pyplot.cm\n",
    "                  see http://matplotlib.org/examples/color/colormaps_reference.html\n",
    "                  plt.get_cmap('jet') or plt.cm.Blues\n",
    "\n",
    "    normalize:    If False, plot the raw numbers\n",
    "                  If True, plot the proportions\n",
    "\n",
    "    Usage\n",
    "    -----\n",
    "    plot_confusion_matrix(cm           = cm,                  # confusion matrix created by\n",
    "                                                              # sklearn.metrics.confusion_matrix\n",
    "                          normalize    = True,                # show proportions\n",
    "                          target_names = y_labels_vals,       # list of names of the classes\n",
    "                          title        = best_estimator_name) # title of graph\n",
    "\n",
    "    Citiation\n",
    "    ---------\n",
    "    http://scikit-learn.org/stable/auto_examples/model_selection/plot_confusion_matrix.html\n",
    "\n",
    "    \"\"\"\n",
    "    import matplotlib.pyplot as plt\n",
    "    import numpy as np\n",
    "    import itertools\n",
    "\n",
    "    accuracy = np.trace(cm) / float(np.sum(cm))\n",
    "    misclass = 1 - accuracy\n",
    "\n",
    "    if cmap is None:\n",
    "        cmap = plt.get_cmap('Blues')\n",
    "\n",
    "    plt.figure(figsize=(8, 6))\n",
    "    plt.imshow(cm, interpolation='nearest', cmap=cmap)\n",
    "    plt.title(title)\n",
    "    plt.colorbar()\n",
    "\n",
    "    if target_names is not None:\n",
    "        tick_marks = np.arange(len(target_names))\n",
    "        plt.xticks(tick_marks, target_names, rotation=45)\n",
    "        plt.yticks(tick_marks, target_names)\n",
    "\n",
    "    if normalize:\n",
    "        cm = cm.astype('float') / cm.sum(axis=1)[:, np.newaxis]\n",
    "\n",
    "\n",
    "    thresh = cm.max() / 1.5 if normalize else cm.max() / 2\n",
    "    for i, j in itertools.product(range(cm.shape[0]), range(cm.shape[1])):\n",
    "        if normalize:\n",
    "            plt.text(j, i, \"{:0.4f}\".format(cm[i, j]),\n",
    "                     horizontalalignment=\"center\",\n",
    "                     color=\"white\" if cm[i, j] > thresh else \"black\")\n",
    "        else:\n",
    "            plt.text(j, i, \"{:,}\".format(cm[i, j]),\n",
    "                     horizontalalignment=\"center\",\n",
    "                     color=\"white\" if cm[i, j] > thresh else \"black\")\n",
    "\n",
    "\n",
    "    plt.tight_layout()\n",
    "    plt.ylabel('True label')\n",
    "    plt.xlabel('Predicted label\\naccuracy={:0.4f}; misclass={:0.4f}'.format(accuracy, misclass))\n",
    "    plt.show()"
   ]
  },
  {
   "cell_type": "markdown",
   "id": "760d6b3c",
   "metadata": {},
   "source": [
    "## Confusion Matrix\n"
   ]
  },
  {
   "cell_type": "code",
   "execution_count": null,
   "id": "4480a02a",
   "metadata": {
    "ExecuteTime": {
     "end_time": "2022-02-17T14:45:28.404781Z",
     "start_time": "2022-02-17T14:45:27.539193Z"
    }
   },
   "outputs": [],
   "source": [
    "plot_confusion_matrix(cm           = cm, \n",
    "                      normalize    = True,\n",
    "                      target_names = ['Non-Fraud', \"Fraud\"],\n",
    "                      title        = \"Confusion Matrix\")"
   ]
  },
  {
   "cell_type": "markdown",
   "id": "5c1c8c77",
   "metadata": {},
   "source": [
    "# Metrics"
   ]
  },
  {
   "cell_type": "code",
   "execution_count": null,
   "id": "01f26a2e",
   "metadata": {
    "ExecuteTime": {
     "end_time": "2022-02-17T14:45:28.419263Z",
     "start_time": "2022-02-17T14:45:28.408158Z"
    }
   },
   "outputs": [],
   "source": [
    "from sklearn.metrics import accuracy_score\n",
    "from sklearn.metrics import f1_score\n",
    "from sklearn.metrics import matthews_corrcoef\n",
    "from sklearn.metrics import precision_score\n",
    "from sklearn.metrics import recall_score\n",
    "\n",
    "def metrics(true, predicted):\n",
    "    accuracy = accuracy_score(true,predicted)\n",
    "    f1 = f1_score(true, predicted, average=\"micro\")\n",
    "    mcc = matthews_corrcoef(true, predicted)\n",
    "    precision = precision_score(true, predicted, average=\"micro\")\n",
    "    recall = recall_score(true, predicted, average='micro')\n",
    "    \n",
    "    print(\"Accuracy: \", accuracy)\n",
    "    print(\"F1 Score: \", f1)\n",
    "    print(\"MCC: \", mcc)\n",
    "    print(\"Precision\", precision)\n",
    "    print(\"rercall\", recall)"
   ]
  },
  {
   "cell_type": "code",
   "execution_count": null,
   "id": "aa8bad52",
   "metadata": {
    "ExecuteTime": {
     "end_time": "2022-02-17T14:45:28.617899Z",
     "start_time": "2022-02-17T14:45:28.423366Z"
    }
   },
   "outputs": [],
   "source": [
    "metrics(y_test, predicted_df)"
   ]
  },
  {
   "cell_type": "markdown",
   "id": "149f7afe",
   "metadata": {},
   "source": [
    "# Preparation for Deployment\n"
   ]
  },
  {
   "cell_type": "markdown",
   "id": "7d2a3d5b",
   "metadata": {},
   "source": [
    "### Export Model to file"
   ]
  },
  {
   "cell_type": "code",
   "execution_count": null,
   "id": "aeac6035",
   "metadata": {
    "ExecuteTime": {
     "end_time": "2022-02-17T14:52:33.265200Z",
     "start_time": "2022-02-17T14:52:33.175620Z"
    }
   },
   "outputs": [],
   "source": [
    "model.save(\"../model/fraud_detection_model_v1.h5\")"
   ]
  },
  {
   "cell_type": "markdown",
   "id": "9adf4f00",
   "metadata": {},
   "source": [
    "### Testing the model file"
   ]
  },
  {
   "cell_type": "code",
   "execution_count": 38,
   "id": "a727e516",
   "metadata": {
    "ExecuteTime": {
     "end_time": "2022-02-17T15:25:30.741902Z",
     "start_time": "2022-02-17T15:24:40.747011Z"
    }
   },
   "outputs": [
    {
     "name": "stderr",
     "output_type": "stream",
     "text": [
      "2022-02-17 23:24:49.366046: I tensorflow/stream_executor/platform/default/dso_loader.cc:53] Successfully opened dynamic library libcudart.so.11.0\n",
      "2022-02-17 23:25:30.190282: I tensorflow/stream_executor/platform/default/dso_loader.cc:53] Successfully opened dynamic library libcuda.so.1\n",
      "2022-02-17 23:25:30.215580: E tensorflow/stream_executor/cuda/cuda_driver.cc:328] failed call to cuInit: UNKNOWN ERROR (100)\n",
      "2022-02-17 23:25:30.215647: I tensorflow/stream_executor/cuda/cuda_diagnostics.cc:156] kernel driver does not appear to be running on this host (DESKTOP-I4FO2JM): /proc/driver/nvidia/version does not exist\n",
      "2022-02-17 23:25:30.216482: I tensorflow/core/platform/cpu_feature_guard.cc:142] This TensorFlow binary is optimized with oneAPI Deep Neural Network Library (oneDNN) to use the following CPU instructions in performance-critical operations:  FMA\n",
      "To enable them in other operations, rebuild TensorFlow with the appropriate compiler flags.\n"
     ]
    }
   ],
   "source": [
    "from tensorflow.keras.models import load_model\n",
    "fraud_detection_model = load_model(\"../model/fraud_detection_model_v1.h5\")"
   ]
  },
  {
   "cell_type": "markdown",
   "id": "6e2ee009",
   "metadata": {},
   "source": [
    "### Preprocess Function"
   ]
  },
  {
   "cell_type": "code",
   "execution_count": 49,
   "id": "de38e00a",
   "metadata": {
    "ExecuteTime": {
     "end_time": "2022-02-17T15:30:53.272925Z",
     "start_time": "2022-02-17T15:30:29.297580Z"
    }
   },
   "outputs": [],
   "source": [
    "## read raw data\n",
    "raw_data = pd.read_csv(\"../dataset/PS_20174392719_1491204439457_log.csv\")"
   ]
  },
  {
   "cell_type": "code",
   "execution_count": 58,
   "id": "9190b49a",
   "metadata": {
    "ExecuteTime": {
     "end_time": "2022-02-17T15:40:20.448182Z",
     "start_time": "2022-02-17T15:40:20.441067Z"
    }
   },
   "outputs": [
    {
     "data": {
      "text/plain": [
       "['step',\n",
       " 'type',\n",
       " 'amount',\n",
       " 'nameOrig',\n",
       " 'oldbalanceOrg',\n",
       " 'newbalanceOrig',\n",
       " 'nameDest',\n",
       " 'oldbalanceDest',\n",
       " 'newbalanceDest',\n",
       " 'isFraud',\n",
       " 'isFlaggedFraud']"
      ]
     },
     "execution_count": 58,
     "metadata": {},
     "output_type": "execute_result"
    }
   ],
   "source": [
    "raw_data.columns.tolist()"
   ]
  },
  {
   "cell_type": "code",
   "execution_count": 50,
   "id": "239e4f28",
   "metadata": {
    "ExecuteTime": {
     "end_time": "2022-02-17T15:30:53.284156Z",
     "start_time": "2022-02-17T15:30:53.276587Z"
    }
   },
   "outputs": [],
   "source": [
    "def preprocess_(data):\n",
    "    X_ = data.iloc[:, [1,2,4,5,7,8]]\n",
    "    from sklearn.preprocessing import LabelEncoder\n",
    "    label = LabelEncoder()\n",
    "    X_.loc[:, [\"type\"]] = label.fit_transform(X_[\"type\"])\n",
    "    y_ = pd.DataFrame(data[\"isFraud\"])\n",
    "    return X_, y_"
   ]
  },
  {
   "cell_type": "code",
   "execution_count": 51,
   "id": "f6cfa0f6",
   "metadata": {
    "ExecuteTime": {
     "end_time": "2022-02-17T15:30:55.020811Z",
     "start_time": "2022-02-17T15:30:53.290484Z"
    }
   },
   "outputs": [],
   "source": [
    "X_, y_ = preprocess_(raw_data)"
   ]
  },
  {
   "cell_type": "markdown",
   "id": "14471f9c",
   "metadata": {},
   "source": [
    "## Prediction\n"
   ]
  },
  {
   "cell_type": "code",
   "execution_count": 52,
   "id": "204cc6a4",
   "metadata": {
    "ExecuteTime": {
     "end_time": "2022-02-17T15:35:07.695632Z",
     "start_time": "2022-02-17T15:31:39.990085Z"
    }
   },
   "outputs": [
    {
     "name": "stderr",
     "output_type": "stream",
     "text": [
      "2022-02-17 23:31:41.431069: I tensorflow/compiler/mlir/mlir_graph_optimization_pass.cc:176] None of the MLIR Optimization Passes are enabled (registered 2)\n",
      "2022-02-17 23:31:41.481911: I tensorflow/core/platform/profile_utils/cpu_utils.cc:114] CPU Frequency: 3593465000 Hz\n"
     ]
    }
   ],
   "source": [
    "prediction = (fraud_detection_model.predict(X_) > 0.5).astype(\"int32\")"
   ]
  },
  {
   "cell_type": "markdown",
   "id": "dbfa143c",
   "metadata": {},
   "source": [
    "## Metrics"
   ]
  },
  {
   "cell_type": "code",
   "execution_count": 56,
   "id": "212b1568",
   "metadata": {
    "ExecuteTime": {
     "end_time": "2022-02-17T15:35:54.820528Z",
     "start_time": "2022-02-17T15:35:54.511212Z"
    }
   },
   "outputs": [],
   "source": [
    "from sklearn.metrics import accuracy_score\n",
    "from sklearn.metrics import f1_score\n",
    "from sklearn.metrics import matthews_corrcoef\n",
    "from sklearn.metrics import precision_score\n",
    "from sklearn.metrics import recall_score\n",
    "\n",
    "def metrics(true, predicted):\n",
    "    accuracy = accuracy_score(true,predicted)\n",
    "    f1 = f1_score(true, predicted, average=\"micro\")\n",
    "    mcc = matthews_corrcoef(true, predicted)\n",
    "    precision = precision_score(true, predicted, average=\"micro\")\n",
    "    recall = recall_score(true, predicted, average='micro')\n",
    "    \n",
    "    print(\"Accuracy: \", accuracy)\n",
    "    print(\"F1 Score: \", f1)\n",
    "    print(\"MCC: \", mcc)\n",
    "    print(\"Precision\", precision)\n",
    "    print(\"rercall\", recall)"
   ]
  },
  {
   "cell_type": "code",
   "execution_count": 57,
   "id": "083b96a7",
   "metadata": {
    "ExecuteTime": {
     "end_time": "2022-02-17T15:36:28.411055Z",
     "start_time": "2022-02-17T15:36:06.544229Z"
    }
   },
   "outputs": [
    {
     "name": "stdout",
     "output_type": "stream",
     "text": [
      "Accuracy:  0.8638351811046393\n",
      "F1 Score:  0.8638351811046393\n",
      "MCC:  0.08438865843386466\n",
      "Precision 0.8638351811046393\n",
      "rercall 0.8638351811046393\n"
     ]
    }
   ],
   "source": [
    "metrics(y_.values, prediction)"
   ]
  },
  {
   "cell_type": "code",
   "execution_count": null,
   "id": "fe9aa8d0",
   "metadata": {},
   "outputs": [],
   "source": []
  }
 ],
 "metadata": {
  "kernelspec": {
   "display_name": "Python 3 (ipykernel)",
   "language": "python",
   "name": "python3"
  },
  "language_info": {
   "codemirror_mode": {
    "name": "ipython",
    "version": 3
   },
   "file_extension": ".py",
   "mimetype": "text/x-python",
   "name": "python",
   "nbconvert_exporter": "python",
   "pygments_lexer": "ipython3",
   "version": "3.8.10"
  }
 },
 "nbformat": 4,
 "nbformat_minor": 5
}
